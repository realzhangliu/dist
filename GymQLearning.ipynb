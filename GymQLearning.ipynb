{
 "cells": [
  {
   "cell_type": "code",
   "execution_count": 5,
   "id": "f709c586-4638-43f6-ad01-2cc6b574e9ee",
   "metadata": {},
   "outputs": [],
   "source": [
    "#load game core\n",
    "%run -i DraughtsGameCore.py\n",
    "%run -i AIPlayers.py"
   ]
  },
  {
   "cell_type": "code",
   "execution_count": 50,
   "id": "f588499b-d596-44e8-b2f2-a0efbf2a585b",
   "metadata": {},
   "outputs": [],
   "source": [
    "from gym import Env\n",
    "from gym.spaces import Discrete, Box,Dict,MultiDiscrete\n",
    "import numpy as np\n",
    "import random"
   ]
  },
  {
   "cell_type": "code",
   "execution_count": 170,
   "id": "2de33957-33dc-4680-8a83-bc48ecae67a9",
   "metadata": {},
   "outputs": [],
   "source": [
    "class ShowerEnv(Env):\n",
    "    def __init__(self):\n",
    "        # Actions we can take, down, stay, up\n",
    "        self.action_space =Dict({\"0,1,1-0,3,1-0,5,1-0,7,1-1,0,1-1,2,1-1,4,1-1,6,1-2,1,1-2,3,1-2,5,1-2,7,1-5,0,2-5,2,2-5,4,2-5,6,2-6,1,2-6,3,2-6,5,2-6,7,2-7,0,2-7,2,2-7,4,2-7,6,2-\":Discrete(1)})\n",
    "        # Temperature array\n",
    "        self.observation_space = Discrete(1)\n",
    "        # Set start temp\n",
    "        self.state = 38 + random.randint(-3,3)\n",
    "        # Set shower length\n",
    "        self.shower_length = 60\n",
    "        \n",
    "    def step(self, action):\n",
    "        # Apply action\n",
    "        # 0 -1 = -1 temperature\n",
    "        # 1 -1 = 0 \n",
    "        # 2 -1 = 1 temperature \n",
    "        self.state += action -1 \n",
    "        # Reduce shower length by 1 second\n",
    "        self.shower_length -= 1 \n",
    "        \n",
    "        # Calculate reward\n",
    "        if self.state >=37 and self.state <=39: \n",
    "            reward =1 \n",
    "        else: \n",
    "            reward = -1 \n",
    "        \n",
    "        # Check if shower is done\n",
    "        if self.shower_length <= 0: \n",
    "            done = True\n",
    "        else:\n",
    "            done = False\n",
    "        \n",
    "        # Apply temperature noise\n",
    "        #self.state += random.randint(-1,1)\n",
    "        # Set placeholder for info\n",
    "        info = {}\n",
    "        \n",
    "        # Return step information\n",
    "        return self.state, reward, done, info\n",
    "\n",
    "    def render(self):\n",
    "        # Implement viz\n",
    "        pass\n",
    "    \n",
    "    def reset(self):\n",
    "        # Reset shower temperature\n",
    "        self.state = 38 + random.randint(-3,3)\n",
    "        # Reset shower time\n",
    "        self.shower_length = 60 \n",
    "        return self.state"
   ]
  },
  {
   "cell_type": "code",
   "execution_count": 171,
   "id": "a2119cb7-4aca-4306-8f01-b14603da1cce",
   "metadata": {},
   "outputs": [],
   "source": [
    "env = ShowerEnv()"
   ]
  },
  {
   "cell_type": "code",
   "execution_count": 172,
   "id": "bf8640c6-4a41-49be-84a4-629a7d8e4d1e",
   "metadata": {},
   "outputs": [
    {
     "data": {
      "text/plain": [
       "0"
      ]
     },
     "execution_count": 172,
     "metadata": {},
     "output_type": "execute_result"
    }
   ],
   "source": [
    "env.observation_space.sample()"
   ]
  },
  {
   "cell_type": "code",
   "execution_count": 173,
   "id": "f9fa9d8f-ba38-4cf1-bce8-aed85bc79ef4",
   "metadata": {},
   "outputs": [
    {
     "data": {
      "text/plain": [
       "Dict(0,1,1-0,3,1-0,5,1-0,7,1-1,0,1-1,2,1-1,4,1-1,6,1-2,1,1-2,3,1-2,5,1-2,7,1-5,0,2-5,2,2-5,4,2-5,6,2-6,1,2-6,3,2-6,5,2-6,7,2-7,0,2-7,2,2-7,4,2-7,6,2-: Discrete(1))"
      ]
     },
     "execution_count": 173,
     "metadata": {},
     "output_type": "execute_result"
    }
   ],
   "source": [
    "env.action_space"
   ]
  },
  {
   "cell_type": "code",
   "execution_count": 174,
   "id": "071f79eb-bc87-43a1-ba5f-69c322e2cd99",
   "metadata": {},
   "outputs": [
    {
     "data": {
      "text/plain": [
       "OrderedDict([('0,1,1-0,3,1-0,5,1-0,7,1-1,0,1-1,2,1-1,4,1-1,6,1-2,1,1-2,3,1-2,5,1-2,7,1-5,0,2-5,2,2-5,4,2-5,6,2-6,1,2-6,3,2-6,5,2-6,7,2-7,0,2-7,2,2-7,4,2-7,6,2-',\n",
       "              0)])"
      ]
     },
     "execution_count": 174,
     "metadata": {},
     "output_type": "execute_result"
    }
   ],
   "source": [
    "env.action_space.sample()"
   ]
  },
  {
   "cell_type": "code",
   "execution_count": 175,
   "id": "5f5f9eb1-3203-40e7-a6c4-97de149db0a2",
   "metadata": {},
   "outputs": [
    {
     "ename": "TypeError",
     "evalue": "unsupported operand type(s) for -: 'collections.OrderedDict' and 'int'",
     "output_type": "error",
     "traceback": [
      "\u001b[0;31m---------------------------------------------------------------------------\u001b[0m",
      "\u001b[0;31mTypeError\u001b[0m                                 Traceback (most recent call last)",
      "Input \u001b[0;32mIn [175]\u001b[0m, in \u001b[0;36m<cell line: 2>\u001b[0;34m()\u001b[0m\n\u001b[1;32m      7\u001b[0m \u001b[38;5;28;01mwhile\u001b[39;00m \u001b[38;5;129;01mnot\u001b[39;00m done:\n\u001b[1;32m      8\u001b[0m     \u001b[38;5;66;03m#env.render()\u001b[39;00m\n\u001b[1;32m      9\u001b[0m     action \u001b[38;5;241m=\u001b[39m env\u001b[38;5;241m.\u001b[39maction_space\u001b[38;5;241m.\u001b[39msample()\n\u001b[0;32m---> 10\u001b[0m     n_state, reward, done, info \u001b[38;5;241m=\u001b[39m \u001b[43menv\u001b[49m\u001b[38;5;241;43m.\u001b[39;49m\u001b[43mstep\u001b[49m\u001b[43m(\u001b[49m\u001b[43maction\u001b[49m\u001b[43m)\u001b[49m\n\u001b[1;32m     11\u001b[0m     score\u001b[38;5;241m+\u001b[39m\u001b[38;5;241m=\u001b[39mreward\n\u001b[1;32m     12\u001b[0m \u001b[38;5;28mprint\u001b[39m(\u001b[38;5;124m'\u001b[39m\u001b[38;5;124mEpisode:\u001b[39m\u001b[38;5;132;01m{}\u001b[39;00m\u001b[38;5;124m Score:\u001b[39m\u001b[38;5;132;01m{}\u001b[39;00m\u001b[38;5;124m'\u001b[39m\u001b[38;5;241m.\u001b[39mformat(episode, score))\n",
      "Input \u001b[0;32mIn [170]\u001b[0m, in \u001b[0;36mShowerEnv.step\u001b[0;34m(self, action)\u001b[0m\n\u001b[1;32m     12\u001b[0m \u001b[38;5;28;01mdef\u001b[39;00m \u001b[38;5;21mstep\u001b[39m(\u001b[38;5;28mself\u001b[39m, action):\n\u001b[1;32m     13\u001b[0m     \u001b[38;5;66;03m# Apply action\u001b[39;00m\n\u001b[1;32m     14\u001b[0m     \u001b[38;5;66;03m# 0 -1 = -1 temperature\u001b[39;00m\n\u001b[1;32m     15\u001b[0m     \u001b[38;5;66;03m# 1 -1 = 0 \u001b[39;00m\n\u001b[1;32m     16\u001b[0m     \u001b[38;5;66;03m# 2 -1 = 1 temperature \u001b[39;00m\n\u001b[0;32m---> 17\u001b[0m     \u001b[38;5;28mself\u001b[39m\u001b[38;5;241m.\u001b[39mstate \u001b[38;5;241m+\u001b[39m\u001b[38;5;241m=\u001b[39m \u001b[43maction\u001b[49m\u001b[43m \u001b[49m\u001b[38;5;241;43m-\u001b[39;49m\u001b[38;5;241;43m1\u001b[39;49m \n\u001b[1;32m     18\u001b[0m     \u001b[38;5;66;03m# Reduce shower length by 1 second\u001b[39;00m\n\u001b[1;32m     19\u001b[0m     \u001b[38;5;28mself\u001b[39m\u001b[38;5;241m.\u001b[39mshower_length \u001b[38;5;241m-\u001b[39m\u001b[38;5;241m=\u001b[39m \u001b[38;5;241m1\u001b[39m \n",
      "\u001b[0;31mTypeError\u001b[0m: unsupported operand type(s) for -: 'collections.OrderedDict' and 'int'"
     ]
    }
   ],
   "source": [
    "episodes = 10\n",
    "for episode in range(1, episodes+1):\n",
    "    state = env.reset()\n",
    "    done = False\n",
    "    score = 0 \n",
    "    \n",
    "    while not done:\n",
    "        #env.render()\n",
    "        action = env.action_space.sample()\n",
    "        n_state, reward, done, info = env.step(action)\n",
    "        score+=reward\n",
    "    print('Episode:{} Score:{}'.format(episode, score))"
   ]
  },
  {
   "cell_type": "code",
   "execution_count": 141,
   "id": "c85903b0-c95d-4df7-a92c-116555305c0a",
   "metadata": {},
   "outputs": [],
   "source": [
    "init_board=[['_', '1', '_', '1', '_', '1', '_', '1'], ['1', '_', '1', '_', '1', '_', '1', '_'], ['_', '1', '_', '1', '_', '1', '_', '1'], ['0', '_', '0', '_', '0', '_', '0', '_'], ['_', '0', '_', '0', '_', '0', '_', '0'], ['2', '_', '2', '_', '2', '_', '2', '_'], ['_', '2', '_', '2', '_', '2', '_', '2'], ['2', '_', '2', '_', '2', '_', '2', '_']]"
   ]
  },
  {
   "cell_type": "code",
   "execution_count": 149,
   "id": "9f5ce4cb-8e7e-43a6-ad30-a584133f208f",
   "metadata": {},
   "outputs": [],
   "source": [
    "\n",
    "def BoardToStr(board):\n",
    "    value=\"\"\n",
    "    for x in range(8):\n",
    "        for y in range(8):\n",
    "            if (x+y)%2==1:\n",
    "                if board[x][y]!=DARK_SQUARE:\n",
    "                    value+=\"{0},{1},{2}-\".format(x,y,board[x][y])\n",
    "    return value\n",
    "\n",
    "def StrToBoard(str):\n",
    "    blankBorad=[[(WHITE_SQUARE if y%2==0 else DARK_SQUARE )if x%2==0 else (DARK_SQUARE if y%2==0 else WHITE_SQUARE) for y in range(NColumn)] for x in range(NRow)]\n",
    "    #vv=[\"1,2,1\",\"2,1,2\",...]\n",
    "    for vv in str.split('-'):\n",
    "        if vv==\"\":\n",
    "            continue\n",
    "        else:\n",
    "            #vvv=[\"1\",\"2\",\"1\"]\n",
    "            vvv=vv.split(\",\")\n",
    "            blankBorad[int(vvv[0])][int(vvv[1])]=vvv[2]\n",
    "    return blankBorad"
   ]
  },
  {
   "cell_type": "code",
   "execution_count": 156,
   "id": "cb70559e-855c-40de-a46e-82a3f2f3b954",
   "metadata": {},
   "outputs": [
    {
     "name": "stdout",
     "output_type": "stream",
     "text": [
      "0,1,1-0,3,1-0,5,1-0,7,1-1,0,1-1,2,1-1,4,1-1,6,1-2,1,1-2,3,1-2,5,1-2,7,1-5,0,2-5,2,2-5,4,2-5,6,2-6,1,2-6,3,2-6,5,2-6,7,2-7,0,2-7,2,2-7,4,2-7,6,2-\n"
     ]
    }
   ],
   "source": [
    "v=BoardToStr(init_board)\n",
    "print(v)"
   ]
  },
  {
   "cell_type": "code",
   "execution_count": 151,
   "id": "bf0dfff5-c3db-4db4-8c00-36cb62031ffb",
   "metadata": {},
   "outputs": [
    {
     "data": {
      "text/plain": [
       "['0,1,1',\n",
       " '0,3,1',\n",
       " '0,5,1',\n",
       " '0,7,1',\n",
       " '1,0,1',\n",
       " '1,2,1',\n",
       " '1,4,1',\n",
       " '1,6,1',\n",
       " '2,1,1',\n",
       " '2,3,1',\n",
       " '2,5,1',\n",
       " '2,7,1',\n",
       " '5,0,2',\n",
       " '5,2,2',\n",
       " '5,4,2',\n",
       " '5,6,2',\n",
       " '6,1,2',\n",
       " '6,3,2',\n",
       " '6,5,2',\n",
       " '6,7,2',\n",
       " '7,0,2',\n",
       " '7,2,2',\n",
       " '7,4,2',\n",
       " '7,6,2',\n",
       " '']"
      ]
     },
     "execution_count": 151,
     "metadata": {},
     "output_type": "execute_result"
    }
   ],
   "source": [
    "v.split('-')"
   ]
  },
  {
   "cell_type": "code",
   "execution_count": 157,
   "id": "bef9e7bd-dcf8-42e4-9d6f-8657d8279260",
   "metadata": {},
   "outputs": [
    {
     "data": {
      "text/plain": [
       "[['_', '1', '_', '1', '_', '1', '_', '1'],\n",
       " ['1', '_', '1', '_', '1', '_', '1', '_'],\n",
       " ['_', '1', '_', '1', '_', '1', '_', '1'],\n",
       " ['0', '_', '0', '_', '0', '_', '0', '_'],\n",
       " ['_', '0', '_', '0', '_', '0', '_', '0'],\n",
       " ['2', '_', '2', '_', '2', '_', '2', '_'],\n",
       " ['_', '2', '_', '2', '_', '2', '_', '2'],\n",
       " ['2', '_', '2', '_', '2', '_', '2', '_']]"
      ]
     },
     "execution_count": 157,
     "metadata": {},
     "output_type": "execute_result"
    }
   ],
   "source": [
    "StrToBoard(v)"
   ]
  },
  {
   "cell_type": "code",
   "execution_count": 154,
   "id": "02463320-4da3-4dce-a68b-5016a8762c7b",
   "metadata": {},
   "outputs": [
    {
     "data": {
      "text/plain": [
       "[['_', '0', '_', '0', '_', '0', '_', '0'],\n",
       " ['0', '_', '0', '_', '0', '_', '0', '_'],\n",
       " ['_', '0', '_', '0', '_', '0', '_', '0'],\n",
       " ['0', '_', '0', '_', '0', '_', '0', '_'],\n",
       " ['_', '0', '_', '0', '_', '0', '_', '0'],\n",
       " ['0', '_', '0', '_', '0', '_', '0', '_'],\n",
       " ['_', '0', '_', '0', '_', '0', '_', '0'],\n",
       " ['0', '_', '0', '_', '0', '_', '0', '_']]"
      ]
     },
     "execution_count": 154,
     "metadata": {},
     "output_type": "execute_result"
    }
   ],
   "source": [
    "blankBorad"
   ]
  },
  {
   "cell_type": "code",
   "execution_count": 176,
   "id": "096a4c6e-83f9-484f-b713-8434dec55e2f",
   "metadata": {},
   "outputs": [],
   "source": [
    "import random"
   ]
  },
  {
   "cell_type": "code",
   "execution_count": 199,
   "id": "c0c9c4f6-fe1a-44a0-96ab-070b9fbcc5af",
   "metadata": {},
   "outputs": [
    {
     "name": "stdout",
     "output_type": "stream",
     "text": [
      "-1\n",
      "0\n",
      "0\n",
      "0\n",
      "-1\n",
      "0\n",
      "0\n",
      "-1\n",
      "-1\n",
      "-1\n"
     ]
    }
   ],
   "source": [
    "for v in range(10):\n",
    "    print(random.randint(-1,0))"
   ]
  },
  {
   "cell_type": "code",
   "execution_count": null,
   "id": "9b3bb5f6-c30b-4c43-8ab6-30f6db9ac362",
   "metadata": {},
   "outputs": [],
   "source": []
  }
 ],
 "metadata": {
  "kernelspec": {
   "display_name": "Python 3 (ipykernel)",
   "language": "python",
   "name": "python3"
  },
  "language_info": {
   "codemirror_mode": {
    "name": "ipython",
    "version": 3
   },
   "file_extension": ".py",
   "mimetype": "text/x-python",
   "name": "python",
   "nbconvert_exporter": "python",
   "pygments_lexer": "ipython3",
   "version": "3.9.12"
  }
 },
 "nbformat": 4,
 "nbformat_minor": 5
}
