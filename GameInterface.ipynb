{
 "cells": [
  {
   "cell_type": "code",
   "execution_count": 3,
   "id": "12a19492-c5de-4080-a1ec-c645d633bb7d",
   "metadata": {},
   "outputs": [],
   "source": [
    "from abc import ABC, abstractmethod\n",
    "\n",
    "class Game():\n",
    "    \n",
    "    @abstractmethod\n",
    "    def __init__(self):\n",
    "        self.current_player = None\n",
    "    \n",
    "    @abstractmethod\n",
    "    def update(self, move):\n",
    "        pass\n",
    "    \n",
    "    @abstractmethod\n",
    "    def getMoves(self):\n",
    "        return []\n",
    "    \n",
    "    @abstractmethod\n",
    "    def isGameOver(self):\n",
    "        return True\n",
    "    \n",
    "    @abstractmethod\n",
    "    def getWinner(self):\n",
    "        return None\n",
    "    \n",
    "    @abstractmethod\n",
    "    def clone(self):\n",
    "        pass\n",
    "    \n",
    "    @abstractmethod\n",
    "    def drawGame(self):\n",
    "        pass\n",
    "    \n",
    "    def evaluate(self, player_piece):\n",
    "        winner = self.getWinner()\n",
    "        if winner==player_piece:\n",
    "            return 1\n",
    "        elif winner!=None:\n",
    "            return -1\n",
    "        return 0\n",
    "    \n",
    "class Player():\n",
    "    \n",
    "    def __init__(self, piece):\n",
    "        self.player_piece = piece\n",
    "    \n",
    "    @abstractmethod\n",
    "    def chooseMove(self, game):\n",
    "        pass\n",
    "\n",
    "    # default evaluation method is to use the \n",
    "    # game-specific state evaluation that is\n",
    "    # implemented in the game.\n",
    "    def evaluate(self, state):\n",
    "        return state.evaluate(self.player_piece)"
   ]
  },
  {
   "cell_type": "code",
   "execution_count": null,
   "id": "c24e1dd3-f0a4-43ea-b024-86a328bcb3a4",
   "metadata": {},
   "outputs": [],
   "source": []
  }
 ],
 "metadata": {
  "kernelspec": {
   "display_name": "Python 3.9.12 ('base')",
   "language": "python",
   "name": "python3"
  },
  "language_info": {
   "codemirror_mode": {
    "name": "ipython",
    "version": 3
   },
   "file_extension": ".py",
   "mimetype": "text/x-python",
   "name": "python",
   "nbconvert_exporter": "python",
   "pygments_lexer": "ipython3",
   "version": "3.9.12"
  },
  "vscode": {
   "interpreter": {
    "hash": "26a2e4d89d80b9cfe50c234e23f288f3f3c4b085a10fa7583d47afb7c947b448"
   }
  }
 },
 "nbformat": 4,
 "nbformat_minor": 5
}
